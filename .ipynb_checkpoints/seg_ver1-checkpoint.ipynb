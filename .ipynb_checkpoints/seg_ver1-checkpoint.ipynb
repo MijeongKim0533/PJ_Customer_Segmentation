{
 "cells": [
  {
   "cell_type": "code",
   "execution_count": 2,
   "id": "db10dc8b-13ba-45c6-83ee-49999e20171d",
   "metadata": {},
   "outputs": [],
   "source": [
    "import pandas as pd\n",
    "import numpy as np\n",
    "import matplotlib.pyplot as plt\n",
    "%matplotlib inline"
   ]
  },
  {
   "cell_type": "code",
   "execution_count": 17,
   "id": "9706d30a-61fc-4666-a112-a6e266055ebe",
   "metadata": {},
   "outputs": [],
   "source": [
    "customer_df = pd.read_csv(\"Customer_info.csv\")\n",
    "discount_df = pd.read_csv(\"Discount_info.csv\")\n",
    "marketing_df = pd.read_csv(\"marketing_info.csv\")\n",
    "sales_df = pd.read_csv(\"Onlinesales_info.csv\")\n",
    "tax_df = pd.read_csv(\"Tax_info.csv\")"
   ]
  },
  {
   "cell_type": "code",
   "execution_count": 4,
   "id": "aac0d9aa-d325-4b6f-a969-45e6e1ecd40f",
   "metadata": {},
   "outputs": [
    {
     "name": "stdout",
     "output_type": "stream",
     "text": [
      "<class 'pandas.core.frame.DataFrame'>\n",
      "RangeIndex: 1468 entries, 0 to 1467\n",
      "Data columns (total 4 columns):\n",
      " #   Column  Non-Null Count  Dtype \n",
      "---  ------  --------------  ----- \n",
      " 0   고객ID    1468 non-null   object\n",
      " 1   성별      1468 non-null   object\n",
      " 2   고객지역    1468 non-null   object\n",
      " 3   가입기간    1468 non-null   int64 \n",
      "dtypes: int64(1), object(3)\n",
      "memory usage: 46.0+ KB\n"
     ]
    }
   ],
   "source": [
    "customer_df.info()"
   ]
  },
  {
   "cell_type": "code",
   "execution_count": 10,
   "id": "077d4921-d5c5-4860-9e07-a1ef77bae4c5",
   "metadata": {},
   "outputs": [
    {
     "name": "stdout",
     "output_type": "stream",
     "text": [
      "<class 'pandas.core.frame.DataFrame'>\n",
      "RangeIndex: 204 entries, 0 to 203\n",
      "Data columns (total 4 columns):\n",
      " #   Column  Non-Null Count  Dtype \n",
      "---  ------  --------------  ----- \n",
      " 0   월       204 non-null    object\n",
      " 1   제품카테고리  204 non-null    object\n",
      " 2   쿠폰코드    204 non-null    object\n",
      " 3   할인율     204 non-null    int64 \n",
      "dtypes: int64(1), object(3)\n",
      "memory usage: 6.5+ KB\n"
     ]
    }
   ],
   "source": [
    "discount_df.info()"
   ]
  },
  {
   "cell_type": "code",
   "execution_count": 13,
   "id": "8ee00b4e-5376-4c46-8802-abb2a9799db8",
   "metadata": {},
   "outputs": [
    {
     "name": "stdout",
     "output_type": "stream",
     "text": [
      "<class 'pandas.core.frame.DataFrame'>\n",
      "RangeIndex: 365 entries, 0 to 364\n",
      "Data columns (total 3 columns):\n",
      " #   Column  Non-Null Count  Dtype  \n",
      "---  ------  --------------  -----  \n",
      " 0   날짜      365 non-null    object \n",
      " 1   오프라인비용  365 non-null    int64  \n",
      " 2   온라인비용   365 non-null    float64\n",
      "dtypes: float64(1), int64(1), object(1)\n",
      "memory usage: 8.7+ KB\n"
     ]
    }
   ],
   "source": [
    "marketing_df.info()"
   ]
  },
  {
   "cell_type": "code",
   "execution_count": 54,
   "id": "0a7df013-306e-4669-ad8f-d71f94a41a65",
   "metadata": {},
   "outputs": [
    {
     "name": "stdout",
     "output_type": "stream",
     "text": [
      "<class 'pandas.core.frame.DataFrame'>\n",
      "RangeIndex: 20 entries, 0 to 19\n",
      "Data columns (total 2 columns):\n",
      " #   Column  Non-Null Count  Dtype  \n",
      "---  ------  --------------  -----  \n",
      " 0   제품카테고리  20 non-null     object \n",
      " 1   GST     20 non-null     float64\n",
      "dtypes: float64(1), object(1)\n",
      "memory usage: 448.0+ bytes\n"
     ]
    }
   ],
   "source": [
    "tax_df.info()"
   ]
  },
  {
   "cell_type": "code",
   "execution_count": 55,
   "id": "37629abb-f515-4867-97c6-5a5446998086",
   "metadata": {},
   "outputs": [
    {
     "name": "stdout",
     "output_type": "stream",
     "text": [
      "<class 'pandas.core.frame.DataFrame'>\n",
      "RangeIndex: 52924 entries, 0 to 52923\n",
      "Data columns (total 9 columns):\n",
      " #   Column  Non-Null Count  Dtype  \n",
      "---  ------  --------------  -----  \n",
      " 0   고객ID    52924 non-null  object \n",
      " 1   거래ID    52924 non-null  object \n",
      " 2   거래날짜    52924 non-null  object \n",
      " 3   제품ID    52924 non-null  object \n",
      " 4   제품카테고리  52924 non-null  object \n",
      " 5   수량      52924 non-null  int64  \n",
      " 6   평균금액    52924 non-null  float64\n",
      " 7   배송료     52924 non-null  float64\n",
      " 8   쿠폰상태    52924 non-null  object \n",
      "dtypes: float64(2), int64(1), object(6)\n",
      "memory usage: 3.6+ MB\n"
     ]
    }
   ],
   "source": [
    "sales_df.info()"
   ]
  },
  {
   "cell_type": "code",
   "execution_count": null,
   "id": "3d098547-b6f8-44bc-9ab0-dd62f49dd508",
   "metadata": {},
   "outputs": [],
   "source": []
  }
 ],
 "metadata": {
  "kernelspec": {
   "display_name": "Python 3 (ipykernel)",
   "language": "python",
   "name": "python3"
  },
  "language_info": {
   "codemirror_mode": {
    "name": "ipython",
    "version": 3
   },
   "file_extension": ".py",
   "mimetype": "text/x-python",
   "name": "python",
   "nbconvert_exporter": "python",
   "pygments_lexer": "ipython3",
   "version": "3.9.6"
  }
 },
 "nbformat": 4,
 "nbformat_minor": 5
}
